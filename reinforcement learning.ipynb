{
 "cells": [
  {
   "cell_type": "code",
   "execution_count": 1,
   "metadata": {},
   "outputs": [
    {
     "name": "stdout",
     "output_type": "stream",
     "text": [
      "importing Jupyter notebook from maze_env.ipynb\n"
     ]
    }
   ],
   "source": [
    "import import_ipynb\n",
    "import numpy as np\n",
    "import copy\n",
    "import maze_env as env"
   ]
  },
  {
   "cell_type": "code",
   "execution_count": 2,
   "metadata": {},
   "outputs": [],
   "source": [
    "n_states=90;n_actions=4;"
   ]
  },
  {
   "cell_type": "code",
   "execution_count": 3,
   "metadata": {},
   "outputs": [],
   "source": [
    "policy = np.ones((n_states, n_actions)) / n_actions\n",
    "visited=copy.deepcopy(env.matrix)"
   ]
  },
  {
   "cell_type": "code",
   "execution_count": 4,
   "metadata": {},
   "outputs": [
    {
     "data": {
      "text/plain": [
       "[['1', '1', '1', '1', '1', '1', '1', '1', '1', '1', '1', '1', '1', '1', '1'],\n",
       " ['1', '.', '.', '.', '.', '.', '.', '.', '.', '.', '1', '.', '1', '.', '1'],\n",
       " ['1', '.', 'E', '1', '1', '.', '1', '1', '1', '1', '1', '.', '.', '.', '1'],\n",
       " ['1', '.', '.', '.', '1', '.', '1', '1', '1', '1', '1', '.', '1', '1', '1'],\n",
       " ['1', '1', '1', '.', '.', '.', '.', '.', '.', '.', '.', '.', 'S', '.', '1'],\n",
       " ['1', '1', '1', '1', '1', '1', '1', '1', '1', '1', '1', '1', '1', '1', '1']]"
      ]
     },
     "execution_count": 4,
     "metadata": {},
     "output_type": "execute_result"
    }
   ],
   "source": [
    "visited"
   ]
  },
  {
   "cell_type": "code",
   "execution_count": 5,
   "metadata": {},
   "outputs": [],
   "source": [
    "def generate_session(policy,t_max=10**2):\n",
    "    states,actions = [],[]\n",
    "    total_reward = 0\n",
    "    env.mat=copy.deepcopy(env.matrix)\n",
    "    s=env.reset()\n",
    "    done=0\n",
    "    for t in range(t_max):\n",
    "        done=-1\n",
    "        a=0;r=0\n",
    "        new_s=[0,1]\n",
    "        while(done==-1):\n",
    "            a = np.random.choice(len(policy[s]), p=policy[s])\n",
    "            done,new_s, r = env.step(a,t)\n",
    "        visited[new_s[0]][new_s[1]]='X';\n",
    "        #env.show()\n",
    "        #print(\"|\",end=\"\\n\")\n",
    "        states.append(s)\n",
    "        actions.append(a)\n",
    "        total_reward += r\n",
    "        #print(r,end=\":\");\n",
    "        s=int(new_s[0]*15)+int(new_s[1])\n",
    "        if done==1:\n",
    "            break\n",
    "    #print(total_reward);\n",
    "    return states, actions, total_reward"
   ]
  },
  {
   "cell_type": "code",
   "execution_count": 6,
   "metadata": {},
   "outputs": [
    {
     "name": "stdout",
     "output_type": "stream",
     "text": [
      "-682\n"
     ]
    },
    {
     "data": {
      "text/plain": [
       "[['1', '1', '1', '1', '1', '1', '1', '1', '1', '1', '1', '1', '1', '1', '1'],\n",
       " ['1', '.', '.', '.', '.', '.', '.', '.', '.', '.', '1', 'X', '1', 'X', '1'],\n",
       " ['1', '.', 'E', '1', '1', '.', '1', '1', '1', '1', '1', 'X', 'X', 'X', '1'],\n",
       " ['1', '.', '.', '.', '1', '.', '1', '1', '1', '1', '1', 'X', '1', '1', '1'],\n",
       " ['1', '1', '1', '.', '.', '.', '.', '.', 'X', 'X', 'X', 'X', 'X', 'X', '1'],\n",
       " ['1', '1', '1', '1', '1', '1', '1', '1', '1', '1', '1', '1', '1', '1', '1']]"
      ]
     },
     "execution_count": 6,
     "metadata": {},
     "output_type": "execute_result"
    }
   ],
   "source": [
    "visited=copy.deepcopy(env.matrix)\n",
    "print(generate_session(policy,100)[-1]);\n",
    "visited"
   ]
  },
  {
   "cell_type": "code",
   "execution_count": 7,
   "metadata": {},
   "outputs": [
    {
     "data": {
      "text/plain": [
       "<matplotlib.legend.Legend at 0x19c0dae6438>"
      ]
     },
     "execution_count": 7,
     "metadata": {},
     "output_type": "execute_result"
    }
   ],
   "source": [
    "import matplotlib.pyplot as plt\n",
    "sample_rewards = [generate_session(policy,t_max=100)[-1] for _ in range(200)]\n",
    "\n",
    "plt.hist(sample_rewards,bins=20);\n",
    "plt.vlines([np.percentile(sample_rewards, 50)], [0], [100], label=\"50'th percentile\", color='green')\n",
    "plt.vlines([np.percentile(sample_rewards, 90)], [0], [100], label=\"90'th percentile\", color='red')\n",
    "plt.legend()"
   ]
  },
  {
   "cell_type": "code",
   "execution_count": 8,
   "metadata": {},
   "outputs": [],
   "source": [
    "def select_elites(states_batch,actions_batch,rewards_batch,percentile=50):\n",
    "    reward_threshold = np.percentile(rewards_batch, percentile)\n",
    "    \n",
    "    elite_states  = [s for i in range(len(states_batch)) if rewards_batch[i] >= reward_threshold for s in states_batch[i]]\n",
    "    elite_actions = [a for i in range(len(actions_batch)) if rewards_batch[i] >= reward_threshold for a in actions_batch[i]]\n",
    "    \n",
    "    return elite_states,elite_actions"
   ]
  },
  {
   "cell_type": "code",
   "execution_count": 9,
   "metadata": {},
   "outputs": [],
   "source": [
    "from collections import defaultdict\n",
    "def update_policy(elite_states,elite_actions):\n",
    "    new_policy = np.zeros([n_states,n_actions])\n",
    "    visited_states = set(elite_states)\n",
    "    counts = defaultdict(lambda: [0]*n_actions)\n",
    "    for state, action in zip(elite_states, elite_actions):\n",
    "        counts[state][action] += 1\n",
    "    for state in range(n_states):\n",
    "        if state in visited_states:\n",
    "            new_policy[state] = [count / sum(counts[state]) for count in counts[state]]\n",
    "        else:\n",
    "            new_policy[state] = [1 / n_actions] * n_actions    \n",
    "    \n",
    "    return new_policy"
   ]
  },
  {
   "cell_type": "code",
   "execution_count": 10,
   "metadata": {},
   "outputs": [],
   "source": [
    "from IPython.display import clear_output\n",
    "\n",
    "def show_progress(batch_rewards, log, percentile, reward_range=[-990,+10]):\n",
    "    \n",
    "    mean_reward, threshold = np.mean(batch_rewards), np.percentile(batch_rewards, percentile)\n",
    "    log.append([mean_reward,threshold])\n",
    "\n",
    "    clear_output(True)\n",
    "    print(\"mean reward = %.3f, threshold=%.3f\"%(mean_reward, threshold))\n",
    "    plt.figure(figsize=[8,4])\n",
    "    plt.subplot(1,2,1)\n",
    "    plt.plot(list(zip(*log))[0], label='Mean rewards')\n",
    "    plt.plot(list(zip(*log))[1], label='Reward thresholds')\n",
    "    plt.legend()\n",
    "    plt.grid()\n",
    "    \n",
    "    plt.subplot(1,2,2)\n",
    "    plt.hist(batch_rewards,range=reward_range);\n",
    "    plt.vlines([np.percentile(batch_rewards, percentile)], [0], [100], label=\"percentile\", color='red')\n",
    "    plt.legend()\n",
    "    plt.grid()\n",
    "\n",
    "    plt.show()"
   ]
  },
  {
   "cell_type": "code",
   "execution_count": 11,
   "metadata": {},
   "outputs": [],
   "source": [
    "policy=np.ones([n_states,n_actions])/n_actions"
   ]
  },
  {
   "cell_type": "code",
   "execution_count": 12,
   "metadata": {},
   "outputs": [
    {
     "name": "stdout",
     "output_type": "stream",
     "text": [
      "mean reward = 941.028, threshold=995.100\n"
     ]
    },
    {
     "data": {
      "image/png": "[encoded data removed]",
      "text/plain": [
       "<Figure size 576x288 with 2 Axes>"
      ]
     },
     "metadata": {},
     "output_type": "display_data"
    }
   ],
   "source": [
    "n_sessions = 250 #sample this many sessions\n",
    "percentile = 45  #take this percent of session with highest rewards\n",
    "learning_rate = 0.6 #add this thing to all counts for stability\n",
    "\n",
    "log = []\n",
    "\n",
    "for i in range(100):\n",
    "    \n",
    "    %time sessions = [generate_session(policy) for _ in range(n_sessions)]\n",
    "    \n",
    "    batch_states,batch_actions,batch_rewards = zip(*sessions)\n",
    "\n",
    "    elite_states, elite_actions = select_elites(batch_states, batch_actions, batch_rewards, percentile)\n",
    "    \n",
    "    new_policy = update_policy(elite_states, elite_actions)\n",
    "    \n",
    "    policy = learning_rate * new_policy + (1-learning_rate) * policy\n",
    "    #display results on chart\n",
    "    show_progress(batch_rewards, log, percentile)"
   ]
  },
  {
   "cell_type": "code",
   "execution_count": 13,
   "metadata": {},
   "outputs": [
    {
     "name": "stdout",
     "output_type": "stream",
     "text": [
      "1133\n"
     ]
    },
    {
     "data": {
      "text/plain": [
       "[['1', '1', '1', '1', '1', '1', '1', '1', '1', '1', '1', '1', '1', '1', '1'],\n",
       " ['1', 'X', 'X', '.', '.', '.', '.', '.', '.', '.', '1', '.', '1', '.', '1'],\n",
       " ['1', 'X', 'E', '1', '1', '.', '1', '1', '1', '1', '1', '.', '.', '.', '1'],\n",
       " ['1', 'X', 'X', 'X', '1', '.', '1', '1', '1', '1', '1', '.', '1', '1', '1'],\n",
       " ['1', '1', '1', 'X', 'X', 'X', 'X', 'X', 'X', 'X', 'X', 'X', 'S', '.', '1'],\n",
       " ['1', '1', '1', '1', '1', '1', '1', '1', '1', '1', '1', '1', '1', '1', '1']]"
      ]
     },
     "execution_count": 13,
     "metadata": {},
     "output_type": "execute_result"
    }
   ],
   "source": [
    "visited=copy.deepcopy(env.matrix)\n",
    "print(generate_session(policy,100)[-1]);\n",
    "visited"
   ]
  }
 ],
 "metadata": {
  "kernelspec": {
   "display_name": "Python 3",
   "language": "python",
   "name": "python3"
  },
  "language_info": {
   "codemirror_mode": {
    "name": "ipython",
    "version": 3
   },
   "file_extension": ".py",
   "mimetype": "text/x-python",
   "name": "python",
   "nbconvert_exporter": "python",
   "pygments_lexer": "ipython3",
   "version": "3.7.0"
  }
 },
 "nbformat": 4,
 "nbformat_minor": 2
}
