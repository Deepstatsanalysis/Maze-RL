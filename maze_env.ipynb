{
 "cells": [
  {
   "cell_type": "code",
   "execution_count": 1,
   "metadata": {},
   "outputs": [],
   "source": [
    "import copy"
   ]
  },
  {
   "cell_type": "code",
   "execution_count": 2,
   "metadata": {},
   "outputs": [],
   "source": [
    "matrix=[\n",
    "['1','1','1','1','1','1','1','1','1','1','1','1','1','1','1'],\n",
    "['1','.','.','.','.','.','.','.','.','.','1','.','1','.','1'],\n",
    "['1','.','E','1','1','.','1','1','1','1','1','.','.','.','1'],\n",
    "['1','.','.','.','1','.','1','1','1','1','1','.','1','1','1'],\n",
    "['1','1','1','.','.','.','.','.','.','.','.','.','S','.','1'],\n",
    "['1','1','1','1','1','1','1','1','1','1','1','1','1','1','1']\n",
    "]"
   ]
  },
  {
   "cell_type": "code",
   "execution_count": 3,
   "metadata": {},
   "outputs": [],
   "source": [
    "for i in range(6):\n",
    "    for j in range(len(matrix[0])):\n",
    "        if matrix[i][j]=='E':\n",
    "            end=[i,j]\n",
    "            break"
   ]
  },
  {
   "cell_type": "code",
   "execution_count": 4,
   "metadata": {},
   "outputs": [],
   "source": [
    "mat=copy.deepcopy(matrix)"
   ]
  },
  {
   "cell_type": "code",
   "execution_count": 5,
   "metadata": {},
   "outputs": [],
   "source": [
    "def show():\n",
    "    for i in range(6):\n",
    "        for j in range(len(mat[0])):\n",
    "            print(mat[i][j],end=\" \");\n",
    "        print(\"\\n\");"
   ]
  },
  {
   "cell_type": "code",
   "execution_count": 6,
   "metadata": {},
   "outputs": [],
   "source": [
    "def reset():\n",
    "    mat=copy.deepcopy(matrix)\n",
    "    state=[0,1]\n",
    "    for i in range(6):\n",
    "        for j in range(len(matrix[0])):\n",
    "            if matrix[i][j]=='S':\n",
    "                state[0]=i;state[1]=j;\n",
    "                break;\n",
    "    return state[0]*15+state[1]"
   ]
  },
  {
   "cell_type": "code",
   "execution_count": 7,
   "metadata": {},
   "outputs": [],
   "source": [
    "def reward(state):\n",
    "    rew=50-(abs(state[0]-end[0])*abs(state[1]-end[1]))\n",
    "    return rew;"
   ]
  },
  {
   "cell_type": "code",
   "execution_count": 8,
   "metadata": {},
   "outputs": [],
   "source": [
    "def step(action,count):\n",
    "    state=[0,1]\n",
    "    for i in range(6):\n",
    "        for j in range(len(mat[0])):\n",
    "            if mat[i][j]=='S':\n",
    "                state[0]=i;state[1]=j;\n",
    "                break;\n",
    "    if action==0:\n",
    "        if mat[state[0]-1][state[1]]=='.':\n",
    "            mat[state[0]][state[1]]='.';\n",
    "            mat[state[0]-1][state[1]]='S'\n",
    "            state[0]-=1;\n",
    "            return 0,state,reward(state)-count;\n",
    "        elif mat[state[0]-1][state[1]]=='E':\n",
    "            return 1,state,reward(end)-count;\n",
    "        else:\n",
    "            return -1,state,0;\n",
    "    elif action==1:\n",
    "        if mat[state[0]][state[1]+1]=='.':\n",
    "            mat[state[0]][state[1]]='.'\n",
    "            mat[state[0]][state[1]+1]='S'\n",
    "            state[1]+=1;\n",
    "            return 0,state,reward(state)-count;\n",
    "        elif mat[state[0]][state[1]+1]=='E':\n",
    "            return 1,state,reward(end)-count;\n",
    "        else:\n",
    "            return -1,state,0;\n",
    "    elif action==2:\n",
    "        if mat[state[0]][state[1]-1]=='.':\n",
    "            mat[state[0]][state[1]]='.'\n",
    "            mat[state[0]][state[1]-1]='S'\n",
    "            state[1]-=1;\n",
    "            return 0,state,reward(state)-count;\n",
    "        elif mat[state[0]][state[1]-1]=='E':\n",
    "            return 1,state,reward(end)-count;\n",
    "        else:\n",
    "            return -1,state,0;\n",
    "    else:\n",
    "        if mat[state[0]+1][state[1]]=='.':\n",
    "            mat[state[0]][state[1]]='.'\n",
    "            mat[state[0]+1][state[1]]='S'\n",
    "            state[0]+=1;\n",
    "            return 0,state,reward(state)-count;\n",
    "        elif mat[state[0]+1][state[1]]=='E':\n",
    "            return 1,state,reward(end)-count;\n",
    "        else:\n",
    "            return -1,state,0;    "
   ]
  }
 ],
 "metadata": {
  "kernelspec": {
   "display_name": "Python 3",
   "language": "python",
   "name": "python3"
  },
  "language_info": {
   "codemirror_mode": {
    "name": "ipython",
    "version": 3
   },
   "file_extension": ".py",
   "mimetype": "text/x-python",
   "name": "python",
   "nbconvert_exporter": "python",
   "pygments_lexer": "ipython3",
   "version": "3.7.0"
  }
 },
 "nbformat": 4,
 "nbformat_minor": 2
}
